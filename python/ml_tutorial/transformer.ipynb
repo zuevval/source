{
 "cells": [
  {
   "cell_type": "markdown",
   "metadata": {},
   "source": [
    "credit: [Building Transformer Models with Attention Crash Course. Build a Neural Machine Translator in 12 Days](https://machinelearningmastery.com/building-transformer-models-with-attention-crash-course-build-a-neural-machine-translator-in-12-days/)\n",
    "\n",
    "> The invention of the attention mechanism solved the problem of how to encode a context into a word, or in other words, how you can present a word **and** its context together in a numerical vector.\n",
    ">"
   ]
  },
  {
   "cell_type": "code",
   "execution_count": null,
   "metadata": {},
   "outputs": [],
   "source": []
  }
 ],
 "metadata": {
  "language_info": {
   "name": "python"
  }
 },
 "nbformat": 4,
 "nbformat_minor": 2
}
