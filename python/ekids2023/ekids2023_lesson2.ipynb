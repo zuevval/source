{
 "cells": [
  {
   "cell_type": "markdown",
   "source": [
    "# Урок 2. Коллекции\n",
    "## 2.1. Домашнее задание"
   ],
   "metadata": {
    "collapsed": false
   }
  },
  {
   "cell_type": "code",
   "execution_count": null,
   "outputs": [],
   "source": [],
   "metadata": {
    "collapsed": false
   }
  },
  {
   "cell_type": "markdown",
   "source": [
    "## 2.2. Немного повторения"
   ],
   "metadata": {
    "collapsed": false
   }
  },
  {
   "cell_type": "code",
   "execution_count": 2,
   "outputs": [
    {
     "data": {
      "text/plain": "92"
     },
     "execution_count": 2,
     "metadata": {},
     "output_type": "execute_result"
    }
   ],
   "source": [
    "a = (3 + 5)**2\n",
    "b = 3 + 5**2\n",
    "a + b"
   ],
   "metadata": {
    "collapsed": false
   }
  },
  {
   "cell_type": "code",
   "execution_count": 6,
   "outputs": [
    {
     "data": {
      "text/plain": "3"
     },
     "execution_count": 6,
     "metadata": {},
     "output_type": "execute_result"
    }
   ],
   "source": [
    "a = [1, 3, 2]\n",
    "a[1]"
   ],
   "metadata": {
    "collapsed": false
   }
  },
  {
   "cell_type": "code",
   "execution_count": 7,
   "outputs": [
    {
     "data": {
      "text/plain": "'ab[1, 3, 2]c'"
     },
     "execution_count": 7,
     "metadata": {},
     "output_type": "execute_result"
    }
   ],
   "source": [
    "a = f\"ab{a}c\"\n",
    "a"
   ],
   "metadata": {
    "collapsed": false
   }
  },
  {
   "cell_type": "markdown",
   "source": [
    "## Дополнение: деление нацело и взятие остатка"
   ],
   "metadata": {
    "collapsed": false
   }
  },
  {
   "cell_type": "code",
   "execution_count": 16,
   "outputs": [
    {
     "name": "stdout",
     "output_type": "stream",
     "text": [
      "1\n"
     ]
    },
    {
     "data": {
      "text/plain": "2"
     },
     "execution_count": 16,
     "metadata": {},
     "output_type": "execute_result"
    }
   ],
   "source": [
    "print(5 // 3)\n",
    "5 % 3"
   ],
   "metadata": {
    "collapsed": false
   }
  },
  {
   "cell_type": "markdown",
   "source": [
    "## 2.3. Общее между строками (strings) и списками (lists)"
   ],
   "metadata": {
    "collapsed": false
   }
  },
  {
   "cell_type": "code",
   "execution_count": 3,
   "outputs": [],
   "source": [
    "l = [1, 2, -3.5, \"abc\", [1, 1, 1], 2]\n",
    "s = \"the fox?\""
   ],
   "metadata": {
    "collapsed": false
   }
  },
  {
   "cell_type": "code",
   "execution_count": 5,
   "metadata": {
    "collapsed": true
   },
   "outputs": [
    {
     "data": {
      "text/plain": "8"
     },
     "execution_count": 5,
     "metadata": {},
     "output_type": "execute_result"
    }
   ],
   "source": [
    "len(l)\n",
    "len(s)\n",
    "l[1]\n",
    "s[1]\n",
    "l[1:3]\n",
    "s[2:4]\n",
    "s[2:]\n",
    "s[:2]\n",
    "len(s[2:])"
   ]
  },
  {
   "cell_type": "markdown",
   "source": [
    "2.4. Добавление и удаление элементов списка"
   ],
   "metadata": {
    "collapsed": false
   }
  },
  {
   "cell_type": "code",
   "execution_count": 9,
   "outputs": [
    {
     "name": "stdout",
     "output_type": "stream",
     "text": [
      "[2, 4, 1]\n",
      "[2, 4, 1, 1]\n",
      "a after extend: [2, 4, 1, 1, 4, 5, 1, 1]\n",
      "a after pop: [2, 4, 1, 1, 4, 5, 1]\n"
     ]
    }
   ],
   "source": [
    "a = [2, 4]\n",
    "a.append(1)\n",
    "print(a)\n",
    "\n",
    "a.append(1)\n",
    "print(a)\n",
    "\n",
    "a.extend([4, 5, 1, 1])\n",
    "print(f\"a after extend: {a}\")\n",
    "a.pop()\n",
    "print(f\"a after pop: {a}\")"
   ],
   "metadata": {
    "collapsed": false
   }
  },
  {
   "cell_type": "markdown",
   "source": [
    "Упражнение: в списке из десяти элементов удалить два средних (создать список, где двух средних элементов нет)"
   ],
   "metadata": {
    "collapsed": false
   }
  },
  {
   "cell_type": "code",
   "execution_count": 12,
   "outputs": [
    {
     "data": {
      "text/plain": "[1, 2, 3, 4, 4, 3, 2, 1]"
     },
     "execution_count": 12,
     "metadata": {},
     "output_type": "execute_result"
    }
   ],
   "source": [
    "arr = [1, 2, 3, 4, 5, 5, 4, 3, 2, 1]\n",
    "\n",
    "# Возможное решение\n",
    "result = arr[:4] + arr[6:]\n",
    "result"
   ],
   "metadata": {
    "collapsed": false
   }
  },
  {
   "cell_type": "markdown",
   "source": [
    "Упражнение: известно, что длина списка нечётная. Найти и напечатать его средний элемент"
   ],
   "metadata": {
    "collapsed": false
   }
  },
  {
   "cell_type": "code",
   "execution_count": 14,
   "outputs": [
    {
     "data": {
      "text/plain": "4"
     },
     "execution_count": 14,
     "metadata": {},
     "output_type": "execute_result"
    }
   ],
   "source": [
    "input_arr = [1, 2, 3, 4, 3, 2, 1]\n",
    "input_arr[len(input_arr) // 2]"
   ],
   "metadata": {
    "collapsed": false
   }
  },
  {
   "cell_type": "markdown",
   "source": [
    "Упражнение: Список имеет произвольную длину. Вывести на экран его первые две трети значений (примерно)"
   ],
   "metadata": {
    "collapsed": false
   }
  },
  {
   "cell_type": "code",
   "execution_count": 18,
   "outputs": [
    {
     "data": {
      "text/plain": "[1, 3, 5, 7, 6]"
     },
     "execution_count": 18,
     "metadata": {},
     "output_type": "execute_result"
    }
   ],
   "source": [
    "a = [1, 3, 5, 7, 6, 4, 2]\n",
    "a[:len(a) - len(a) // 3]"
   ],
   "metadata": {
    "collapsed": false
   }
  },
  {
   "cell_type": "markdown",
   "source": [
    "## 2.5. Словари: ключевая идея"
   ],
   "metadata": {
    "collapsed": false
   }
  },
  {
   "cell_type": "code",
   "execution_count": 23,
   "outputs": [],
   "source": [
    "a = {1: 5, 2: \"a\", \"ccc\": [1, 2, 3], 5: {1: \"2\"}}  # ключ: значение"
   ],
   "metadata": {
    "collapsed": false
   }
  },
  {
   "cell_type": "markdown",
   "source": [
    "К элементам словаря, как и к элементам списка, можно обращаться через квадратные скобки.\n",
    "Разница в том, что у списка в квадратных скобках ставим индекс, а у словаря - ключ"
   ],
   "metadata": {
    "collapsed": false
   }
  },
  {
   "cell_type": "code",
   "execution_count": 20,
   "outputs": [
    {
     "data": {
      "text/plain": "{1: 5, 2: 'a', 'ccc': [1, 2, 3], 0: 5, 1000: 'aabb'}"
     },
     "execution_count": 20,
     "metadata": {},
     "output_type": "execute_result"
    }
   ],
   "source": [
    "a[1]\n",
    "# a[0] # ошибка!\n",
    "a[0] = 5\n",
    "a[1000] = \"aabb\"\n",
    "a"
   ],
   "metadata": {
    "collapsed": false
   }
  },
  {
   "cell_type": "code",
   "execution_count": 22,
   "outputs": [],
   "source": [
    "l = [1, 2, 3]\n",
    "# l[1000] = \"aabb\" # ошибка"
   ],
   "metadata": {
    "collapsed": false
   }
  },
  {
   "cell_type": "markdown",
   "source": [
    "## 2.6. Домашнее задание\n",
    "\n",
    "1. В детской считалке \"каждый охотник желает знать где сидит фазан\" каждое слово соответствует одному цвету. Для заданного списка \"l\", который содержит только слова из этой считалки (строчными буквами), вывести цвет, сответствующий первому элементу. Гарантируется, что список не пуст.\n",
    "\n",
    "Примеры:\n",
    "- ввод: [\"охотник\", \"каждый\"]\n",
    "- вывод: \"оранжевый\"\n",
    "\n",
    "- ввод: [\"знать\", \"сидит\", \"фазан\"]\n",
    "- вывод: \"зелёный\"\n",
    "\n",
    "2. Вывести цвет, соответствующий последнему элементу\n",
    "3. вывести цвет, соответствующий среднему элементу (или ближайшему к середние снизу, если длина списка чётная)\n",
    "4. вывести в одной строке всё, что требуется в предыдущих пунктах, и красиво это оформить с пояснением.\n",
    "\n",
    "Пример:\n",
    "- ввод: [\"знать\", \"где\", \"охотник\", \"знать\"]\n",
    "- вывод: \"первый: зелёный, средний (или ближайший к середине снизу): голубой, последний: зелёный\"\n"
   ],
   "metadata": {
    "collapsed": false
   }
  },
  {
   "cell_type": "markdown",
   "source": [
    "## Дополнительно: булевы переменные. Проверка на наличие"
   ],
   "metadata": {
    "collapsed": false
   }
  },
  {
   "cell_type": "code",
   "execution_count": 26,
   "outputs": [
    {
     "name": "stdout",
     "output_type": "stream",
     "text": [
      "True\n",
      "False\n",
      "True\n",
      "False\n"
     ]
    }
   ],
   "source": [
    "print(5 in a)\n",
    "print(6 in a)\n",
    "print(2 in l)\n",
    "print(0 in l)"
   ],
   "metadata": {
    "collapsed": false
   }
  },
  {
   "cell_type": "code",
   "execution_count": null,
   "outputs": [],
   "source": [
    "a = True\n",
    "print(a)\n",
    "print(not a)"
   ],
   "metadata": {
    "collapsed": false
   }
  },
  {
   "cell_type": "code",
   "execution_count": 27,
   "outputs": [
    {
     "name": "stdout",
     "output_type": "stream",
     "text": [
      "False\n",
      "{1: 5, 2: 'a', 'ccc': [1, 2, 3], 5: {1: '2'}}\n"
     ]
    }
   ],
   "source": [
    "b = False\n",
    "print(a and b)\n",
    "print(a or b)"
   ],
   "metadata": {
    "collapsed": false
   }
  },
  {
   "cell_type": "markdown",
   "source": [
    "# Тема 3. Условия"
   ],
   "metadata": {
    "collapsed": false
   }
  },
  {
   "cell_type": "code",
   "execution_count": 29,
   "outputs": [
    {
     "name": "stdout",
     "output_type": "stream",
     "text": [
      "a=True\n",
      "a=100\n"
     ]
    }
   ],
   "source": [
    "a = True\n",
    "\n",
    "if a:\n",
    "    print(f\"a={a}\")\n",
    "\n",
    "a = 100  # 50, 49, 51, -100\n",
    "\n",
    "if a > 50:\n",
    "    print(f\"a={a}\")"
   ],
   "metadata": {
    "collapsed": false
   }
  }
 ],
 "metadata": {
  "kernelspec": {
   "display_name": "Python 3",
   "language": "python",
   "name": "python3"
  },
  "language_info": {
   "codemirror_mode": {
    "name": "ipython",
    "version": 2
   },
   "file_extension": ".py",
   "mimetype": "text/x-python",
   "name": "python",
   "nbconvert_exporter": "python",
   "pygments_lexer": "ipython2",
   "version": "2.7.6"
  }
 },
 "nbformat": 4,
 "nbformat_minor": 0
}
