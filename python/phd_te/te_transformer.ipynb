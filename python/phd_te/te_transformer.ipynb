{
 "cells": [
  {
   "cell_type": "markdown",
   "metadata": {},
   "source": [
    "# Generate data"
   ]
  },
  {
   "cell_type": "code",
   "execution_count": null,
   "metadata": {},
   "outputs": [],
   "source": [
    "import numpy as np\n",
    "import pandas as pd\n",
    "import matplotlib.pyplot as plt\n",
    "import plotly.graph_objects as go"
   ]
  },
  {
   "cell_type": "code",
   "execution_count": null,
   "metadata": {},
   "outputs": [],
   "source": [
    "dataset_size = 150\n",
    "np.random.seed(42)\n",
    "data = pd.DataFrame({\n",
    "    \"age\": np.random.randint(low=0, high=70, size=dataset_size),\n",
    "    \"gender\": np.random.choice(2, size=dataset_size),\n",
    "    \"temperature\": np.random.uniform(low=35.5, high=38.5, size=dataset_size),\n",
    "    \"treatment\": np.random.choice(2, size=dataset_size)\n",
    "})\n",
    "data[\"y\"] = 2 * (80 - data[\"age\"]) \\\n",
    "    + 15 * (data[\"temperature\"] - 35.5) * data[\"treatment\"] \\\n",
    "        + 1.5 * np.random.randn(dataset_size)\n",
    "# TODO normalize dataset\n",
    "data"
   ]
  },
  {
   "cell_type": "code",
   "execution_count": null,
   "metadata": {},
   "outputs": [],
   "source": [
    "category_colors = {0: 'red', 1: 'blue'}\n",
    "treatment_colors = [category_colors[t] for t in data[\"treatment\"]]\n",
    "\n",
    "fig = plt.figure()\n",
    "ax = fig.add_subplot(111, projection='3d')\n",
    "plt.scatter(data['age'], data['temperature'], data['y'], c=treatment_colors, marker='o')"
   ]
  },
  {
   "cell_type": "code",
   "execution_count": null,
   "metadata": {},
   "outputs": [],
   "source": [
    "fig = go.Figure()\n",
    "fig.add_trace(go.Scatter3d(x=data[\"age\"], y=data[\"temperature\"], z=data[\"y\"], mode=\"markers\", \n",
    "                           marker={\n",
    "                               \"color\": data[\"treatment\"],\n",
    "                               \"colorbar\": {\"title\": \"treatment\"}\n",
    "                               }))\n",
    "fig.update_layout(\n",
    "    title='data',\n",
    "    scene=dict(\n",
    "        xaxis_title='age',\n",
    "        yaxis_title='temperature',\n",
    "        zaxis_title='y',\n",
    "    )\n",
    ")\n",
    "fig.write_html(\"data.html\")\n"
   ]
  },
  {
   "cell_type": "markdown",
   "metadata": {},
   "source": [
    "# Define layers"
   ]
  },
  {
   "cell_type": "code",
   "execution_count": null,
   "metadata": {},
   "outputs": [],
   "source": [
    "# TODO"
   ]
  },
  {
   "cell_type": "markdown",
   "metadata": {},
   "source": [
    "# Propagate through model"
   ]
  },
  {
   "cell_type": "code",
   "execution_count": null,
   "metadata": {},
   "outputs": [],
   "source": [
    "# TODO"
   ]
  }
 ],
 "metadata": {
  "kernelspec": {
   "display_name": "Python 3",
   "language": "python",
   "name": "python3"
  },
  "language_info": {
   "codemirror_mode": {
    "name": "ipython",
    "version": 3
   },
   "file_extension": ".py",
   "mimetype": "text/x-python",
   "name": "python",
   "nbconvert_exporter": "python",
   "pygments_lexer": "ipython3",
   "version": "3.12.7"
  }
 },
 "nbformat": 4,
 "nbformat_minor": 2
}
