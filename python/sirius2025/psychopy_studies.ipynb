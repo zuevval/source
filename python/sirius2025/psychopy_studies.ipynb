{
 "cells": [
  {
   "cell_type": "code",
   "execution_count": null,
   "id": "1ea7682e",
   "metadata": {},
   "outputs": [],
   "source": [
    "!pip install psychopy # env: source | this does not work fine for me, only standalone version works"
   ]
  },
  {
   "cell_type": "code",
   "execution_count": null,
   "id": "eb0b2587",
   "metadata": {},
   "outputs": [],
   "source": []
  }
 ],
 "metadata": {
  "kernelspec": {
   "display_name": "base",
   "language": "python",
   "name": "python3"
  },
  "language_info": {
   "codemirror_mode": {
    "name": "ipython",
    "version": 3
   },
   "file_extension": ".py",
   "mimetype": "text/x-python",
   "name": "python",
   "nbconvert_exporter": "python",
   "pygments_lexer": "ipython3",
   "version": "3.9.16"
  }
 },
 "nbformat": 4,
 "nbformat_minor": 5
}
