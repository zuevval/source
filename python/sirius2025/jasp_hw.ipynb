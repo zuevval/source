{
 "cells": [
  {
   "cell_type": "code",
   "execution_count": null,
   "id": "43d071f2",
   "metadata": {},
   "outputs": [],
   "source": [
    "!pip install numpy pandas plotly scipy scikit-learn seaborn statsmodels"
   ]
  },
  {
   "cell_type": "code",
   "execution_count": null,
   "id": "9a78a06e",
   "metadata": {},
   "outputs": [],
   "source": [
    "import pandas as pd\n",
    "df = pd.read_csv(\"/Users/vzuev/Documents/work/phd/eeg/events/2025_sirius/homework/stats/dataframe_for_homework.csv\", sep=\";\")\n",
    "df.head()"
   ]
  },
  {
   "cell_type": "markdown",
   "id": "064e6a62",
   "metadata": {},
   "source": [
    "Посмотрим на данные в целом. Сгруппируем по полу"
   ]
  },
  {
   "cell_type": "code",
   "execution_count": null,
   "id": "0d010843",
   "metadata": {},
   "outputs": [],
   "source": [
    "import seaborn as sns\n",
    "sns.pairplot(df, hue=\"sex\")"
   ]
  },
  {
   "cell_type": "markdown",
   "id": "6d3c81c9",
   "metadata": {},
   "source": [
    "Визуально кажется, что `sd_corr` и `env_corr` не коррелируют (по крайней мере, попарно) с `age` и `PLS_receptive`.\n",
    "\n",
    "Проверим коэффициенты корреляции Пирсона.\n",
    "Не забываем сделать поправку на множественное тестирование (я выбрал \"мягкий\" метод Беньямини-Хохберга и уровень значимости alpha=0.01)"
   ]
  },
  {
   "cell_type": "code",
   "execution_count": null,
   "id": "6199dccf",
   "metadata": {},
   "outputs": [],
   "source": [
    "from itertools import product\n",
    "from scipy import stats\n",
    "from statsmodels.stats.multitest import multipletests\n",
    "\n",
    "pairs = list(product((\"sd_corr\", \"env_corr\"), (\"age\", \"PLS_receptive\")))\n",
    "print(\"pairs:\", pairs)\n",
    "\n",
    "corr_results = []\n",
    "for col1, col2 in pairs:\n",
    "    r, p = stats.pearsonr(df[col1], df[col2])\n",
    "    corr_results.append({'pair': f\"{col1}-{col2}\", 'r': r, 'p': p})\n",
    "results_df = pd.DataFrame(corr_results)\n",
    "\n",
    "rejected, p_adj, _, _ = multipletests(results_df['p'], method='fdr_bh', alpha=.01)\n",
    "results_df['p_adj_bh'] = p_adj\n",
    "results_df['significant_bh'] = rejected\n",
    "results_df"
   ]
  },
  {
   "cell_type": "markdown",
   "id": "58f44929",
   "metadata": {},
   "source": [
    "Гипотеза H<sub>0</sub> для каждой пары величин - эти две величины независимые нормально распределённые.\n",
    "p-value при проверки такой гипотезы, грубо говоря, соответствует вероятности выборки из некоррелированной системы двух величин иметь коэффициент корреляции R по модулю не меньше полученного при вычислении.\n",
    "\n",
    "Получается, всё же параметры значимо коррелируют (кроме пары `PLS_receptive` и `env_corr`), поскольку скорректированные p-value < alpha.\n",
    "Т.о. **нейронное отслеживание связано как с возрастом, так и со способностью понимать естественную речь**.\n",
    "\n",
    "Построим линейную регрессию каждого коэффициента, используя возраст и уровень развития рецептивной речи как факторы"
   ]
  },
  {
   "cell_type": "code",
   "execution_count": null,
   "id": "28644ade",
   "metadata": {},
   "outputs": [],
   "source": [
    "import numpy as np\n",
    "import plotly.express as px\n",
    "import plotly.graph_objects as go\n",
    "\n",
    "from sklearn.linear_model import LinearRegression\n",
    "\n",
    "model = LinearRegression()\n",
    "\n",
    "x_col, y_col = \"age\", \"PLS_receptive\"\n",
    "x_range = np.linspace(df[x_col].min(), df[x_col].max(), 20)\n",
    "y_range = np.linspace(df[y_col].min(), df[y_col].max(), 20)\n",
    "xx, yy = np.meshgrid(x_range, y_range)\n",
    "\n",
    "def fit_and_plot(z_col: str) -> None:\n",
    "    model.fit(df[[x_col, y_col]], df[z_col])\n",
    "    zz = model.predict(np.c_[xx.ravel(), yy.ravel()]).reshape(xx.shape)\n",
    "    fig = px.scatter_3d(df, x=\"age\", y=\"PLS_receptive\", z=\"env_corr\", color=\"sex\")\n",
    "    \n",
    "    go_fig = go.Figure(fig)\n",
    "    go_fig.add_trace(go.Surface(x=xx, y=yy, z=zz, opacity=.6, showscale=False))\n",
    "    # go_fig.show()\n",
    "    go_fig.write_html(f\"{z_col}_linearRegr.html\")\n",
    "\n",
    "    r_squared = model.score(df[[x_col, y_col]], df[z_col])\n",
    "    print(f\"R^2 = {r_squared:.3f}\")\n",
    "\n",
    "fit_and_plot(z_col=\"env_corr\")"
   ]
  },
  {
   "cell_type": "code",
   "execution_count": null,
   "id": "e9645472",
   "metadata": {},
   "outputs": [],
   "source": [
    "fit_and_plot(z_col=\"sd_corr\")"
   ]
  },
  {
   "cell_type": "markdown",
   "id": "e72d98a0",
   "metadata": {},
   "source": [
    "Коэффициент детерминации R<sup>2</sup> (доля объяснённой дисперсии зависимой переменной) невысока, но для `sd_corr`, пожалуй, даже выше, чем я ожидал по визуальной оценке. \n",
    "\n",
    "Окна Plotly не отображаются интерактивно при экспорте Jupyter в HTML, поэтому результаты приведены в отдельных HTML-файлах."
   ]
  }
 ],
 "metadata": {
  "kernelspec": {
   "display_name": "source",
   "language": "python",
   "name": "python3"
  },
  "language_info": {
   "codemirror_mode": {
    "name": "ipython",
    "version": 3
   },
   "file_extension": ".py",
   "mimetype": "text/x-python",
   "name": "python",
   "nbconvert_exporter": "python",
   "pygments_lexer": "ipython3",
   "version": "3.9.7"
  }
 },
 "nbformat": 4,
 "nbformat_minor": 5
}
