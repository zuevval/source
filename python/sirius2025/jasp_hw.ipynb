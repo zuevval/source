{
 "cells": [
  {
   "cell_type": "code",
   "execution_count": null,
   "id": "9a78a06e",
   "metadata": {},
   "outputs": [],
   "source": [
    "import pandas as pd\n",
    "df = pd.read_csv(\"/Users/vzuev/Documents/work/phd/eeg/events/2025_sirius/homework/stats/dataframe_for_homework.csv\", sep=\";\")\n",
    "df"
   ]
  },
  {
   "cell_type": "code",
   "execution_count": null,
   "id": "43d071f2",
   "metadata": {},
   "outputs": [],
   "source": [
    "# !pip install plotly\n",
    "# !pip install seaborn"
   ]
  },
  {
   "cell_type": "code",
   "execution_count": null,
   "id": "28644ade",
   "metadata": {},
   "outputs": [],
   "source": [
    "import plotly.express as px\n",
    "import plotly.graph_objects as go\n",
    "\n",
    "px.scatter_3d(df, x=\"age\", y=\"PLS_receptive\", z=\"env_corr\", color=\"sex\")"
   ]
  },
  {
   "cell_type": "code",
   "execution_count": null,
   "id": "e9645472",
   "metadata": {},
   "outputs": [],
   "source": [
    "px.scatter_3d(df, x=\"age\", y=\"PLS_receptive\", z=\"sd_corr\", color=\"sex\")"
   ]
  },
  {
   "cell_type": "code",
   "execution_count": null,
   "id": "0d010843",
   "metadata": {},
   "outputs": [],
   "source": [
    "import seaborn as sns\n",
    "sns.pairplot(df, hue=\"sex\")"
   ]
  }
 ],
 "metadata": {
  "kernelspec": {
   "display_name": "hit-ganp",
   "language": "python",
   "name": "python3"
  },
  "language_info": {
   "codemirror_mode": {
    "name": "ipython",
    "version": 3
   },
   "file_extension": ".py",
   "mimetype": "text/x-python",
   "name": "python",
   "nbconvert_exporter": "python",
   "pygments_lexer": "ipython3",
   "version": "3.10.9"
  }
 },
 "nbformat": 4,
 "nbformat_minor": 5
}
