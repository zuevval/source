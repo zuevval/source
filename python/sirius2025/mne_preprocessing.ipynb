{
 "cells": [
  {
   "cell_type": "code",
   "execution_count": null,
   "metadata": {
    "id": "ezNDYjsLeneg"
   },
   "outputs": [],
   "source": [
    "# Скачиваем библиотеку\n",
    "!pip install mne"
   ]
  },
  {
   "cell_type": "code",
   "execution_count": null,
   "metadata": {
    "id": "NpOaYgeVfQK8"
   },
   "outputs": [],
   "source": [
    "# Подгружаем нужные нам библиотеки и их модули\n",
    "import mne\n",
    "from mne.preprocessing import ICA\n",
    "import matplotlib.pyplot as plt\n",
    "import numpy as np\n",
    "from scipy.stats import kurtosis\n",
    "from scipy.stats import skew , variation\n",
    "from scipy.signal import welch"
   ]
  },
  {
   "cell_type": "code",
   "execution_count": null,
   "metadata": {
    "id": "EmI2fwR3fP_z"
   },
   "outputs": [],
   "source": [
    "# from google.colab import drive\n",
    "# drive.mount('/content/gdrive', force_remount=True)\n"
   ]
  },
  {
   "cell_type": "code",
   "execution_count": null,
   "metadata": {
    "id": "k0pfsmHffPoK"
   },
   "outputs": [],
   "source": [
    "# прописываем путь к папке с файлами на гугл диске\n",
    "path='EEG_files/'"
   ]
  },
  {
   "cell_type": "code",
   "execution_count": null,
   "metadata": {
    "id": "Cb_d6mFPhYVQ"
   },
   "outputs": [],
   "source": [
    "#загрузка сырого файла\n",
    "ID='NP112212'\n",
    "name=f'{path}{ID}_RT.vhdr' # остальные файлы подтянет сам\n",
    "raw = mne.io.read_raw_brainvision(name,\n",
    "                                  eog=('HEOGL', 'HEOGR', 'VEOGb'),\n",
    "                                  misc='auto', scale=1.0,\n",
    "                                  preload=True, verbose=None\n",
    "                                 )"
   ]
  },
  {
   "cell_type": "code",
   "execution_count": null,
   "metadata": {
    "id": "Mzni0VflhYRJ"
   },
   "outputs": [],
   "source": [
    "raw.info #выводим информацию о файле"
   ]
  },
  {
   "cell_type": "code",
   "execution_count": null,
   "metadata": {
    "id": "tNgyrlMmhYDj"
   },
   "outputs": [],
   "source": [
    "raw.ch_names #Можем посмотреть названия каналов"
   ]
  },
  {
   "cell_type": "code",
   "execution_count": null,
   "metadata": {
    "id": "BtGvUcDZjggL"
   },
   "outputs": [],
   "source": [
    "#удаляем лишние каналы - микрофон, фотодатчик (система не знает их точных координат)\n",
    "raw.drop_channels(['Photo', 'micr']) # по умолчанию переписывает исходный объект"
   ]
  },
  {
   "cell_type": "code",
   "execution_count": null,
   "metadata": {
    "id": "DIwPq0PwjoFV"
   },
   "outputs": [],
   "source": [
    "#Смотрим располажение сенсеров\n",
    "mne.viz.plot_sensors(raw.info, kind='topomap', show_names=True)\n",
    "plt.show()"
   ]
  },
  {
   "cell_type": "code",
   "execution_count": null,
   "metadata": {
    "id": "EnbCrK3BkmB4"
   },
   "outputs": [],
   "source": [
    "raw.plot(n_channels = len(raw.ch_names), duration=20.0, start=10.0) # почему-то не переходит в интерактивный режим - может, нужна дополнительная библиотека типа QT?\n",
    "plt.show()"
   ]
  },
  {
   "cell_type": "code",
   "execution_count": null,
   "metadata": {
    "id": "5RrC5nHNkl2L"
   },
   "outputs": [],
   "source": [
    "# фильтруем данные\n",
    "raw.filter(0.1, 30, method = 'fir')\n",
    "raw.plot(n_channels = len(raw.ch_names), duration=20.0, start=10.0)\n",
    "plt.show()"
   ]
  },
  {
   "cell_type": "code",
   "execution_count": null,
   "metadata": {
    "id": "dmAHFl3SklzH"
   },
   "outputs": [],
   "source": [
    "raw.plot(n_channels = len(raw.ch_names), duration=20.0, start=10.0, scalings='auto')\n",
    "plt.show()"
   ]
  },
  {
   "cell_type": "code",
   "execution_count": null,
   "metadata": {
    "id": "WLB5_8AFvjyK"
   },
   "outputs": [],
   "source": [
    "len(raw)"
   ]
  },
  {
   "cell_type": "code",
   "execution_count": null,
   "metadata": {
    "id": "PGrxDo-Dklvn"
   },
   "outputs": [],
   "source": [
    "# for i in range (10, len(raw), 80):\n",
    "#   raw.plot(n_channels = len(raw.ch_names), duration=30.0, start=i, scalings='auto')"
   ]
  },
  {
   "cell_type": "code",
   "execution_count": null,
   "metadata": {
    "id": "XYs6kekdkliJ"
   },
   "outputs": [],
   "source": [
    "# задаем плохие каналы\n",
    "raw.info['bads']=['T8']"
   ]
  },
  {
   "cell_type": "code",
   "execution_count": null,
   "metadata": {
    "id": "RkhkvALWxu9I"
   },
   "outputs": [],
   "source": [
    "raw.info"
   ]
  },
  {
   "cell_type": "code",
   "execution_count": null,
   "metadata": {
    "id": "KFK8A8Pex3ZW"
   },
   "outputs": [],
   "source": [
    "# интерполируем плохие каналы\n",
    "raw.interpolate_bads()"
   ]
  },
  {
   "cell_type": "code",
   "execution_count": null,
   "metadata": {
    "id": "HAa14moFyGri"
   },
   "outputs": [],
   "source": [
    "raw_ica = raw.copy()\n",
    "raw_ica.filter(1, 30) #другой диапазон фильтрации для лучшей работы ICA\n",
    "# созданим эпохи на основе записи\n",
    "epochs_r = mne.make_fixed_length_epochs(raw_ica, preload=True)\n",
    "threshold = 360e-6 # порог по которому отбросим выраженно артефактные отрезки записи\n",
    "epochs_ica = epochs_r.drop_bad(reject=dict(eeg=threshold))"
   ]
  },
  {
   "cell_type": "code",
   "execution_count": null,
   "metadata": {},
   "outputs": [],
   "source": [
    "# !pip install scikit-learn # for mne.ICA"
   ]
  },
  {
   "cell_type": "code",
   "execution_count": null,
   "metadata": {
    "id": "vBb8ERyXyNAz"
   },
   "outputs": [],
   "source": [
    "# тренировка модели ICA\n",
    "ica = mne.preprocessing.ICA(n_components = 20).fit(epochs_ica)"
   ]
  },
  {
   "cell_type": "code",
   "execution_count": null,
   "metadata": {
    "id": "oib1F7VKyae9"
   },
   "outputs": [],
   "source": [
    "# визуализируем компоненты\n",
    "ica.plot_components(inst = epochs_ica)\n",
    "plt.show()"
   ]
  },
  {
   "cell_type": "code",
   "execution_count": null,
   "metadata": {
    "id": "YBKDYYX4yoQl"
   },
   "outputs": [],
   "source": [
    "# Для воспроизводимости модели модно задать параметр random_state\n",
    "ica = mne.preprocessing.ICA(n_components = 20, random_state=95).fit(epochs_ica)"
   ]
  },
  {
   "cell_type": "code",
   "execution_count": null,
   "metadata": {},
   "outputs": [],
   "source": [
    "ica.plot_components(inst=epochs_ica) # горизонтальное движение глаз - всегда с одной стороны красное, с другой синее; вертикальные движения глаз - ещё одно"
   ]
  },
  {
   "cell_type": "code",
   "execution_count": null,
   "metadata": {
    "id": "_QPCznUxz41Q"
   },
   "outputs": [],
   "source": [
    "#посмотреть сигнал компонентов\n",
    "ica.plot_sources(inst = epochs_ica, start=20)\n",
    "plt.show()"
   ]
  },
  {
   "cell_type": "code",
   "execution_count": null,
   "metadata": {},
   "outputs": [],
   "source": [
    "# ica.plot_properties(raw)"
   ]
  },
  {
   "cell_type": "code",
   "execution_count": null,
   "metadata": {
    "id": "C2AjNv600eoL"
   },
   "outputs": [],
   "source": [
    "#помечаем компоненты которые нам не нравятся, смотрим на них поподробнее\n",
    "ica.exclude = [2, 4]\n",
    "ica.plot_properties(raw, picks=ica.exclude)"
   ]
  },
  {
   "cell_type": "code",
   "execution_count": null,
   "metadata": {
    "id": "BP5tm-ghz4yV"
   },
   "outputs": [],
   "source": [
    "ica"
   ]
  },
  {
   "cell_type": "code",
   "execution_count": null,
   "metadata": {
    "id": "r1puWGyB1jbW"
   },
   "outputs": [],
   "source": [
    "ica.plot_overlay(raw)\n",
    "plt.show()"
   ]
  },
  {
   "cell_type": "code",
   "execution_count": null,
   "metadata": {
    "id": "MgQGLjglz4vM"
   },
   "outputs": [],
   "source": [
    "#сделаем еще одну копию исходного файла, из которой уже исключим выбранные артефактные компоненты\n",
    "reconst_raw = raw.copy()\n",
    "#применяем модель на копии изначальных данных\n",
    "ica.apply(reconst_raw)\n",
    "#смотрим как было\n",
    "raw.plot(n_channels = len(raw.ch_names), duration=20.0, start=10.0, scalings={'eeg':1e-4})\n",
    "#смотрим как стало\n",
    "reconst_raw.plot(n_channels = len(raw.ch_names), duration=20.0, start=10.0, scalings={'eeg':1e-4})\n",
    "plt.show()"
   ]
  },
  {
   "cell_type": "code",
   "execution_count": null,
   "metadata": {
    "id": "xV8N8gRmz4sV"
   },
   "outputs": [],
   "source": [
    "#делаем перереферирование на усредненный электрод\n",
    "reconst_raw =reconst_raw.set_eeg_reference(ref_channels='average')"
   ]
  },
  {
   "cell_type": "code",
   "execution_count": null,
   "metadata": {
    "id": "t0pAlgCyz4o7"
   },
   "outputs": [],
   "source": [
    "reconst_raw.save(f'{path}{ID}_RT_clean.fif', overwrite=True)"
   ]
  },
  {
   "cell_type": "markdown",
   "metadata": {
    "id": "LRxgrPfk7ipF"
   },
   "source": [
    "И в заключение посмотрим, что мы можем сделать есть у нас зарание не даны позиции каналов"
   ]
  },
  {
   "cell_type": "code",
   "execution_count": null,
   "metadata": {
    "id": "H6nslFGTz4gf"
   },
   "outputs": [],
   "source": [
    "subject='58'\n",
    "raw = mne.io.read_raw_edf(path + subject + '_RT.edf', preload = True)"
   ]
  },
  {
   "cell_type": "code",
   "execution_count": null,
   "metadata": {
    "id": "hvkrjgRT79T9"
   },
   "outputs": [],
   "source": [
    "raw"
   ]
  },
  {
   "cell_type": "code",
   "execution_count": null,
   "metadata": {
    "id": "PLPRI3z27z2c"
   },
   "outputs": [],
   "source": [
    "print(len(raw.ch_names))\n",
    "raw.ch_names"
   ]
  },
  {
   "cell_type": "code",
   "execution_count": null,
   "metadata": {},
   "outputs": [],
   "source": [
    "# [ch.split()[1].split(\"-\")[0] for ch in raw.ch_names]"
   ]
  },
  {
   "cell_type": "code",
   "execution_count": null,
   "metadata": {
    "id": "9DginWuw9aar"
   },
   "outputs": [],
   "source": [
    "# mne.viz.plot_sensors(raw.info, kind='topomap', show_names=True)"
   ]
  },
  {
   "cell_type": "code",
   "execution_count": null,
   "metadata": {},
   "outputs": [],
   "source": [
    "raw.ch_names"
   ]
  },
  {
   "cell_type": "code",
   "execution_count": null,
   "metadata": {
    "id": "u6jIjQZN7zzS"
   },
   "outputs": [],
   "source": [
    "names_64 = ['Fp1', 'Fpz', 'Fp2', 'F7','F3','Fz','F4','F8','FC5',\n",
    " 'FC1','FC2','FC6','M1','T7','C3','Cz', 'C4', 'T8', 'M2', 'CP5', 'CP1',\n",
    " 'CP2', 'CP6', 'P7', 'P3', 'Pz', 'P4', 'P8', 'POz', 'O1', 'O2',\n",
    " 'EOG','AF7','AF3','AF4','AF8','F5','F1','F2','F6','FC3','FCz','FC4',\n",
    " 'C5','C1','C2','C6','CP3','CP4','P5','P1','P2','P6','PO5','PO3','PO4','PO6','FT7','FT8',\n",
    " 'TP7','TP8', 'PO7', 'PO8', 'Oz']"
   ]
  },
  {
   "cell_type": "code",
   "execution_count": null,
   "metadata": {
    "id": "YApitzux8JQT"
   },
   "outputs": [],
   "source": [
    "raw.rename_channels(dict(zip(raw.ch_names, names_64)))# переиминовываем каналы по словарю\n",
    "raw.set_channel_types(mapping = {'EOG':'eog'})# задаем тип каналов\n",
    "\n",
    "ch = mne.channels.make_standard_montage('standard_1005') # устанавливаем стандартный монтаж\n",
    "raw.set_montage(ch)"
   ]
  },
  {
   "cell_type": "code",
   "execution_count": null,
   "metadata": {
    "id": "WFRh8_Pr88RY"
   },
   "outputs": [],
   "source": [
    "raw.ch_names"
   ]
  },
  {
   "cell_type": "code",
   "execution_count": null,
   "metadata": {
    "id": "BD4fGsCp9RbC"
   },
   "outputs": [],
   "source": [
    "mne.viz.plot_sensors(raw.info, kind='topomap', show_names=True)\n",
    "plt.show()"
   ]
  }
 ],
 "metadata": {
  "colab": {
   "authorship_tag": "ABX9TyPdhc+WuhCrdmr8KZtvKOj5",
   "provenance": []
  },
  "kernelspec": {
   "display_name": "source",
   "language": "python",
   "name": "python3"
  },
  "language_info": {
   "codemirror_mode": {
    "name": "ipython",
    "version": 3
   },
   "file_extension": ".py",
   "mimetype": "text/x-python",
   "name": "python",
   "nbconvert_exporter": "python",
   "pygments_lexer": "ipython3",
   "version": "3.9.7"
  }
 },
 "nbformat": 4,
 "nbformat_minor": 0
}
